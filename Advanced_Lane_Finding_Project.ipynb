{
 "cells": [
  {
   "cell_type": "markdown",
   "metadata": {},
   "source": [
    "## Advanced Lane Finding Project\n",
    "\n",
    "The goals / steps of this project are the following:\n",
    "\n",
    "* Compute the camera calibration matrix and distortion coefficients given a set of chessboard images.\n",
    "* Apply a distortion correction to raw images.\n",
    "* Use color transforms, gradients, etc., to create a thresholded binary image.\n",
    "* Apply a perspective transform to rectify binary image (\"birds-eye view\").\n",
    "* Detect lane pixels and fit to find the lane boundary.\n",
    "* Determine the curvature of the lane and vehicle position with respect to center.\n",
    "* Warp the detected lane boundaries back onto the original image.\n",
    "* Output visual display of the lane boundaries and numerical estimation of lane curvature and vehicle position."
   ]
  },
  {
   "cell_type": "code",
   "execution_count": 1,
   "metadata": {},
   "outputs": [],
   "source": [
    "import numpy as np\n",
    "import cv2\n",
    "import glob\n",
    "import matplotlib.pyplot as plt\n",
    "%matplotlib qt"
   ]
  },
  {
   "cell_type": "markdown",
   "metadata": {},
   "source": [
    "## Finding Chessboard Corners to Calibrate Camera"
   ]
  },
  {
   "cell_type": "code",
   "execution_count": 2,
   "metadata": {},
   "outputs": [],
   "source": [
    "# Prepare object points, ex: (0,0,0), (1,0,0), (2,0,0), ..., (8,5,0)\n",
    "objp = np.zeros((9*6,3),np.float32)\n",
    "objp[:,:2] = np.mgrid[0:9,0:6].T.reshape(-1,2)\n",
    "\n",
    "# Arrays to store the object points and image points from all the calibration images.\n",
    "objpts = [] # 3d points in real world space\n",
    "imgpts = [] # 2d points in image plane\n",
    "\n",
    "# Make a list of the calibration images\n",
    "cal_imgs = glob.glob('camera_cal/calibration*.jpg')\n",
    "\n",
    "# Cycle through the list and perform chessboard corner search\n",
    "for fname in cal_imgs:\n",
    "    img = cv2.imread(fname)\n",
    "    gray = cv2.cvtColor(img, cv2.COLOR_BGR2GRAY)\n",
    "    img_size = gray.shape[::-1]\n",
    "    \n",
    "    # Find the chessboard corners\n",
    "    ret, corners = cv2.findChessboardCorners(gray, (9,6), None)\n",
    "    \n",
    "    # If found, add object points and image points to arrays\n",
    "    if ret:\n",
    "        objpts.append(objp)\n",
    "        imgpts.append(corners)\n",
    "        \n",
    "        # Draw and display the corners on calibration images\n",
    "        img = cv2.drawChessboardCorners(img, (9,6), corners, ret)\n",
    "        cv2.imshow('img', img)\n",
    "        cv2.waitKey(500)\n",
    "\n",
    "cv2.destroyAllWindows()"
   ]
  },
  {
   "cell_type": "markdown",
   "metadata": {},
   "source": [
    "# Calibrate camera and undistort images"
   ]
  },
  {
   "cell_type": "code",
   "execution_count": 6,
   "metadata": {},
   "outputs": [],
   "source": [
    "# Calibrate camera using the image points generated from previous step\n",
    "ret, mtx, dist, rvecs, tvecs = cv2.calibrateCamera(objpts, imgpts, img_size, None, None)\n",
    "\n",
    "# Read in the test images.\n",
    "straightline_imgs = glob.glob('test_images/straight_lines*.jpg')\n",
    "undist_imgs = []\n",
    "\n",
    "# Cycle the imgs to output undistorted ones.\n",
    "for fname in straightline_imgs:\n",
    "    img = cv2.imread(fname)\n",
    "    undist = cv2.undistort(img, mtx, dist, None, mtx)\n",
    "    undist_imgs.append(undist)\n",
    "\n",
    "cv2.imshow('test', undist_imgs[0])\n",
    "cv2.waitKey()\n",
    "cv2.destroyAllWindows()"
   ]
  },
  {
   "cell_type": "markdown",
   "metadata": {},
   "source": [
    "## Create Threshold Binary Images using undistorted images"
   ]
  },
  {
   "cell_type": "code",
   "execution_count": null,
   "metadata": {},
   "outputs": [],
   "source": [
    "def abs_sobel_thresh(img, orient='x', sobel_kernel=3, thresh=(0,255)):\n",
    "    xorder = 1\n",
    "    yorder = 0\n",
    "    if orient=='y':\n",
    "        xorder = 0\n",
    "        yorder = 1\n",
    "    sobel = cv2.Sobel(img, cv2.CV_64F, xorder, yorder, ksize=sobel_kernel)\n",
    "    abs_sobel = np.absolute(sobel)\n",
    "    grad_binary = np.zeros_like(abs_sobel)\n",
    "    grad_binary[(abs_sobel>thresh[0]) & (abs_sobel<thresh[1])] = 1\n",
    "    return grad_binary\n",
    "\n",
    "def mag_thresh(img, sobel_kernel=3, thresh=(0,255)):\n",
    "    sobelx = cv2.Sobel(img, cv2.CV_64F, 1, 0, ksize=sobel_kernel)\n",
    "    sobely = cv2.Sobel(img, cv2.CV_64F, 0, 1, ksize=sobel_kernel)\n",
    "    mag_sobel = np.sqrt(np.square(sobelx) + np.square(sobely))\n",
    "    mag_binary = np.zeros_like(mag_sobel)\n",
    "    mag_binary[(mag_sobel>thresh[0]) & (mag_sobel<thresh[1])] = 1\n",
    "    return mag_binary\n",
    "\n",
    "def dir_thresh(img, sobel_kernel=3, thresh=(0,255)):\n",
    "    sobelx = cv2.Sobel(img, cv2.CV_64F, 1, 0, ksize=sobel_kernel)\n",
    "    sobely = cv2.Sobel(img, cv2.CV_64F, 0, 1, ksize=sobel_kernel)\n",
    "    abs_sobelx = np.absolute(sobelx)\n",
    "    abs_sobely = np.absolute(sobely)\n",
    "    dir_sobel = np.arctan2(abs_sobely, abs_sobelx)\n",
    "    dir_binary = np.zeros_like(dir_sobel)\n",
    "    dir_binary[(dir_sobel>thresh[0]) & (dir_sobel<thresh[1])] = 1\n",
    "    return dir_binary\n",
    "\n",
    "#image = cv2.imread('test_images/signs_vehicles_xygrad.png')\n",
    "#gray = cv2.cvtColor(image, cv2.COLOR_BGR2GRAY)\n",
    "\n",
    "gray = cv2.cvtColor(undist_imgs[0], cv2.COLOR_BGR2GRAY)\n",
    "\n",
    "ksize = 5\n",
    "thresh = (90,180)\n",
    "\n",
    "gradx = abs_sobel_thresh(gray, orient='x', sobel_kernel=ksize, thresh=thresh)\n",
    "grady = abs_sobel_thresh(gray, orient='y', sobel_kernel=ksize, thresh=thresh)\n",
    "mag_binary = mag_thresh(gray, sobel_kernel=ksize, thresh=thresh)\n",
    "dir_binary = dir_thresh(gray, sobel_kernel=ksize, thresh=(0, np.pi/2))\n",
    "\n",
    "combined = np.zeros_like(dir_binary)\n",
    "combined[((gradx == 1) & (grady == 1)) | ((mag_binary == 1) & (dir_binary == 1))] = 1\n",
    "\n",
    "cv2.imshow('output', combined)\n",
    "cv2.waitKey()\n",
    "cv2.destroyAllWindows()\n"
   ]
  },
  {
   "cell_type": "code",
   "execution_count": null,
   "metadata": {
    "collapsed": true
   },
   "outputs": [],
   "source": []
  },
  {
   "cell_type": "code",
   "execution_count": null,
   "metadata": {
    "collapsed": true
   },
   "outputs": [],
   "source": []
  }
 ],
 "metadata": {
  "kernelspec": {
   "display_name": "Python 3",
   "language": "python",
   "name": "python3"
  },
  "language_info": {
   "codemirror_mode": {
    "name": "ipython",
    "version": 3
   },
   "file_extension": ".py",
   "mimetype": "text/x-python",
   "name": "python",
   "nbconvert_exporter": "python",
   "pygments_lexer": "ipython3",
   "version": "3.5.2"
  },
  "widgets": {
   "state": {},
   "version": "1.1.2"
  }
 },
 "nbformat": 4,
 "nbformat_minor": 2
}
